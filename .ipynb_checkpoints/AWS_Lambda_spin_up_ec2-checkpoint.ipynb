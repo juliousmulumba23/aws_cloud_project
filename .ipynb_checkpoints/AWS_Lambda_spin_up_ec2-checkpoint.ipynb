{
 "cells": [
  {
   "cell_type": "code",
   "execution_count": null,
   "id": "a26a3b87-f38d-4980-bd55-5d69fbf1d259",
   "metadata": {},
   "outputs": [],
   "source": [
    "AWSTemplateFormatVersion: '2010-09-09'\n",
    "Resources:\n",
    "  LambdaExecutionRole:\n",
    "    Type: 'AWS::IAM::Role'\n",
    "    Properties:\n",
    "      AssumeRolePolicyDocument:   #The trust policy that is associated with this role. Trust policies define which entities can assume the role.\n",
    "        Version: '2012-10-17'\n",
    "        Statement:\n",
    "          - Effect: 'Allow'\n",
    "            Principal:\n",
    "              Service: 'lambda.amazonaws.com'\n",
    "            Action: 'sts:AssumeRole'\n",
    "      Policies:\n",
    "        - PolicyName: 'LambdaExecutionPolicy_by_Juels'\n",
    "          PolicyDocument:\n",
    "            Version: '2012-10-17'\n",
    "            Statement:\n",
    "              - Effect: 'Allow'\n",
    "                Action:\n",
    "                  - 'logs:CreateLogGroup'\n",
    "                  - 'logs:CreateLogStream'\n",
    "                  - 'logs:PutLogEvents'\n",
    "                Resource: 'arn:aws:logs:*:*:*'\n",
    "              - Effect: 'Allow'\n",
    "                Action:\n",
    "                  - 'ec2:RunInstances'\n",
    "                  - 'ec2:TerminateInstances'\n",
    "                  - 'ec2:DescribeInstances'\n",
    "                Resource: '*'\n",
    "              - Effect: 'Allow'\n",
    "                Action: 'lambda:InvokeFunction'\n",
    "                Resource: '*'\n",
    "  LambdaFunction:\n",
    "    Type: 'AWS::Lambda::Function'\n",
    "    Properties:\n",
    "      Handler: 'index.my_lambda_handler'  #The name of the method within your code that Lambda calls to run your function.\n",
    "      Role: !GetAtt LambdaExecutionRole.Arn\n",
    "      Code:\n",
    "        ZipFile:\n",
    "\n",
    "\n",
    "\n",
    "\n",
    "\n",
    "\n",
    "            "
   ]
  }
 ],
 "metadata": {
  "kernelspec": {
   "display_name": "Python 3 (ipykernel)",
   "language": "python",
   "name": "python3"
  },
  "language_info": {
   "codemirror_mode": {
    "name": "ipython",
    "version": 3
   },
   "file_extension": ".py",
   "mimetype": "text/x-python",
   "name": "python",
   "nbconvert_exporter": "python",
   "pygments_lexer": "ipython3",
   "version": "3.13.1"
  }
 },
 "nbformat": 4,
 "nbformat_minor": 5
}
